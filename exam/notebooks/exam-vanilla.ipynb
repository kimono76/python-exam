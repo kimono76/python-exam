{
 "cells": [
  {
   "cell_type": "markdown",
   "metadata": {},
   "source": [
    "- We use the \"csv\" standard library for spreadsheet handling"
   ]
  },
  {
   "cell_type": "code",
   "execution_count": 147,
   "metadata": {},
   "outputs": [],
   "source": [
    "import csv"
   ]
  },
  {
   "cell_type": "markdown",
   "metadata": {},
   "source": [
    "- All the constants are here\n",
    "with the usage of those, we avoid the usage of \"magic strings\" througout the code"
   ]
  },
  {
   "cell_type": "code",
   "execution_count": 148,
   "metadata": {},
   "outputs": [],
   "source": [
    "original_file ='../files/RecursosPython.csv'\n",
    "file_character_encoding = 'utf-8-sig'\n",
    "\n",
    "file_by_state ='../files/RecursosPythonFiltradoPorProvincia.csv'\n",
    "file_setup_for_write_mode ='w'\n",
    "file_setup_for_new_line =''\n",
    "\n",
    "column_name = 'Nombre'\n",
    "column_surname = 'Apellido'\n",
    "column_state ='Provincia'\n",
    "\n",
    "name='name'\n",
    "surname='surname'\n",
    "state='state'\n",
    "\n",
    "given_surname_to_filter ='Gómez'\n",
    "given_location_to_filter ='Córdoba'"
   ]
  },
  {
   "cell_type": "markdown",
   "metadata": {},
   "source": [
    "- Below are all the data structures used in the program"
   ]
  },
  {
   "cell_type": "code",
   "execution_count": 149,
   "metadata": {},
   "outputs": [],
   "source": [
    "converted_file_information = []\n",
    "information_filtered_by_name = []\n",
    "information_filtered_by_state = []\n",
    "information_filtered_for_export_file = []\n",
    "\n",
    "class Columns:\n",
    "    def __init__(self, a, b, c):\n",
    "        self.column_a = a\n",
    "        self.column_b = b\n",
    "        self.column_c = c\n"
   ]
  },
  {
   "cell_type": "markdown",
   "metadata": {},
   "source": [
    "- These are the instances of the clases that we'll use"
   ]
  },
  {
   "cell_type": "code",
   "execution_count": 150,
   "metadata": {},
   "outputs": [],
   "source": [
    "\n",
    "excel_columns = Columns(\n",
    "    column_name,\n",
    "    column_surname,\n",
    "    column_state\n",
    "    )\n",
    "\n",
    "dictionary_columns = Columns(\n",
    "    name,\n",
    "    surname,\n",
    "    state\n",
    ")"
   ]
  },
  {
   "cell_type": "markdown",
   "metadata": {},
   "source": [
    "- By using this function we'll avoid code duplication"
   ]
  },
  {
   "cell_type": "code",
   "execution_count": 183,
   "metadata": {},
   "outputs": [],
   "source": [
    "\n",
    "def load_dictionary(\n",
    "    source,destination_dictionary,\n",
    "    source_cols,dest_cols\n",
    "    ):\n",
    "    destination_dictionary.append({\n",
    "            dest_cols.column_a:source[source_cols.column_a],\n",
    "            dest_cols.column_b:source[source_cols.column_b],\n",
    "            dest_cols.column_c:source[source_cols.column_c],            \n",
    "        })\n"
   ]
  },
  {
   "cell_type": "code",
   "execution_count": 194,
   "metadata": {},
   "outputs": [],
   "source": [
    "\n",
    "def load_dictionary_from_another_dictionary(\n",
    "    source_dictionary,destination_dictionary,\n",
    "    source_cols,dest_cols\n",
    "    ):\n",
    "    for source_register in source_dictionary:\n",
    "        destination_dictionary.append({\n",
    "                dest_cols.column_a:source_register[source_cols.column_a],\n",
    "                dest_cols.column_b:source_register[source_cols.column_b],\n",
    "                dest_cols.column_c:source_register[source_cols.column_c],            \n",
    "            })"
   ]
  },
  {
   "cell_type": "markdown",
   "metadata": {},
   "source": [
    "- This function is used to import a file from the spreadsheet into a dictionary list"
   ]
  },
  {
   "cell_type": "code",
   "execution_count": 152,
   "metadata": {},
   "outputs": [],
   "source": [
    "\n",
    "def import_csv_file(file_path,file_character_encoding):\n",
    "    converted_file_information.clear()\n",
    "    with open(file_path,encoding=file_character_encoding) as original_csv_file:\n",
    "        reader = csv.DictReader(original_csv_file)    \n",
    "        for ordered_dict in reader:\n",
    "            load_dictionary(\n",
    "                ordered_dict,\n",
    "                converted_file_information,\n",
    "                excel_columns,\n",
    "                dictionary_columns\n",
    "                )"
   ]
  },
  {
   "cell_type": "code",
   "execution_count": 153,
   "metadata": {},
   "outputs": [],
   "source": [
    "\n",
    "import_csv_file(original_file,file_character_encoding)"
   ]
  },
  {
   "cell_type": "code",
   "execution_count": 154,
   "metadata": {},
   "outputs": [
    {
     "name": "stdout",
     "output_type": "stream",
     "text": [
      "[{'name': 'John', 'surname': 'Doe', 'state': 'Santa Fe'}, {'name': 'Selena', 'surname': 'Gomez', 'state': 'Córdoba'}, {'name': 'Barny', 'surname': 'Gómez', 'state': 'Springfield'}]\n"
     ]
    }
   ],
   "source": [
    "print(converted_file_information)"
   ]
  },
  {
   "cell_type": "markdown",
   "metadata": {},
   "source": [
    "- This function filters the dictionary using the name of the person as the search criteria"
   ]
  },
  {
   "cell_type": "code",
   "execution_count": 155,
   "metadata": {},
   "outputs": [],
   "source": [
    "def filter_by_name(given_surname):\n",
    "    count = 0\n",
    "    information_filtered_by_name.clear()\n",
    "    for dictionary in converted_file_information:\n",
    "        person_surname = dictionary[surname].lower()\n",
    "        if person_surname == given_surname.lower():\n",
    "            count=count + 1\n",
    "            print(person_surname, dictionary)\n",
    "            load_dictionary(\n",
    "                dictionary,\n",
    "                information_filtered_by_name,\n",
    "                dictionary_columns,\n",
    "                dictionary_columns\n",
    "                )\n",
    "    print('total found =',count)\n"
   ]
  },
  {
   "cell_type": "code",
   "execution_count": 156,
   "metadata": {},
   "outputs": [
    {
     "name": "stdout",
     "output_type": "stream",
     "text": [
      "gómez {'name': 'Barny', 'surname': 'Gómez', 'state': 'Springfield'}\n",
      "total found = 1\n"
     ]
    }
   ],
   "source": [
    "\n",
    "filter_by_name('gómez')"
   ]
  },
  {
   "cell_type": "code",
   "execution_count": 157,
   "metadata": {},
   "outputs": [
    {
     "name": "stdout",
     "output_type": "stream",
     "text": [
      "[{'name': 'Barny', 'surname': 'Gómez', 'state': 'Springfield'}]\n"
     ]
    }
   ],
   "source": [
    "print(information_filtered_by_name)"
   ]
  },
  {
   "cell_type": "code",
   "execution_count": 158,
   "metadata": {},
   "outputs": [
    {
     "name": "stdout",
     "output_type": "stream",
     "text": [
      "santa fe\n",
      "córdoba\n"
     ]
    }
   ],
   "source": [
    "information_filtered_by_state.clear()\n",
    "\n",
    "for dictionary in converted_file_information:\n",
    "    person_state = dictionary[state].lower()\n",
    "    if person_state == 'córdoba' or person_state == 'santa fe':\n",
    "        print(person_state)\n",
    "        information_filtered_by_state.append({\n",
    "            'name':dictionary[name],\n",
    "            'surname':dictionary[surname],\n",
    "            'state':dictionary[state]   \n",
    "        })"
   ]
  },
  {
   "cell_type": "code",
   "execution_count": 159,
   "metadata": {},
   "outputs": [
    {
     "name": "stdout",
     "output_type": "stream",
     "text": [
      "[{'name': 'John', 'surname': 'Doe', 'state': 'Santa Fe'}, {'name': 'Selena', 'surname': 'Gomez', 'state': 'Córdoba'}]\n"
     ]
    }
   ],
   "source": [
    "print(information_filtered_by_state)"
   ]
  },
  {
   "cell_type": "code",
   "execution_count": 195,
   "metadata": {},
   "outputs": [],
   "source": [
    "information_filtered_for_export_file.clear()\n",
    "load_dictionary_from_another_dictionary(\n",
    "    information_filtered_by_state,\n",
    "    information_filtered_for_export_file,\n",
    "    dictionary_columns,\n",
    "    excel_columns\n",
    "    )"
   ]
  },
  {
   "cell_type": "code",
   "execution_count": 196,
   "metadata": {},
   "outputs": [
    {
     "name": "stdout",
     "output_type": "stream",
     "text": [
      "[{'Nombre': 'John', 'Apellido': 'Doe', 'Provincia': 'Santa Fe'}, {'Nombre': 'Selena', 'Apellido': 'Gomez', 'Provincia': 'Córdoba'}]\n"
     ]
    }
   ],
   "source": [
    "print(information_filtered_for_export_file)"
   ]
  },
  {
   "cell_type": "code",
   "execution_count": 197,
   "metadata": {},
   "outputs": [],
   "source": [
    "with open(\n",
    "    file_by_state,file_setup_for_write_mode,newline=file_setup_for_new_line\n",
    "    ) as destination_csv_file:\n",
    "    \n",
    "    fieldnames=[excel_columns.column_a,excel_columns.column_b,excel_columns.column_c]\n",
    "    \n",
    "    csv_dictionary_writer = csv.DictWriter(destination_csv_file,fieldnames=fieldnames)\n",
    "    csv_dictionary_writer.writeheader()\n",
    "    \n",
    "    for dictionary in information_filtered_for_export_file:\n",
    "        csv_dictionary_writer.writerow(dictionary)"
   ]
  }
 ],
 "metadata": {
  "kernelspec": {
   "display_name": "Python 3.7.13 ('exam-virtual')",
   "language": "python",
   "name": "python3"
  },
  "language_info": {
   "codemirror_mode": {
    "name": "ipython",
    "version": 3
   },
   "file_extension": ".py",
   "mimetype": "text/x-python",
   "name": "python",
   "nbconvert_exporter": "python",
   "pygments_lexer": "ipython3",
   "version": "3.7.13"
  },
  "orig_nbformat": 4,
  "vscode": {
   "interpreter": {
    "hash": "94d249ff46b9b4cd1b91bea5784328511f984e01f14fa96abec34091615907f2"
   }
  }
 },
 "nbformat": 4,
 "nbformat_minor": 2
}
