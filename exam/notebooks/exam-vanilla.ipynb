{
 "cells": [
  {
   "cell_type": "code",
   "execution_count": 24,
   "metadata": {},
   "outputs": [],
   "source": [
    "import csv"
   ]
  },
  {
   "cell_type": "code",
   "execution_count": 25,
   "metadata": {},
   "outputs": [],
   "source": [
    "original_file ='../files/RecursosPython.csv'\n",
    "character_encoding = 'utf-8-sig'\n",
    "\n",
    "column_name = 'Nombre'\n",
    "column_surname = 'Apellido'\n",
    "column_state ='Provincia'\n",
    "\n",
    "name='name'\n",
    "surname='surname'\n",
    "state='state'\n",
    "\n",
    "given_surname_to_filter ='Gómez'\n",
    "given_location_to_filter ='Córdoba'"
   ]
  },
  {
   "cell_type": "code",
   "execution_count": 26,
   "metadata": {},
   "outputs": [],
   "source": [
    "converted_file_information = []\n",
    "information_filtered_by_name = []\n",
    "\n",
    "class Columns:\n",
    "    def __init__(self, a, b, c):\n",
    "        self.column_a = a\n",
    "        self.column_b = b\n",
    "        self.column_c = c\n",
    "\n",
    "excel_columns = Columns(\n",
    "    column_name,\n",
    "    column_surname,\n",
    "    column_state\n",
    "    )\n",
    "\n",
    "dictionary_columns = Columns(\n",
    "    name,\n",
    "    surname,\n",
    "    state\n",
    ")"
   ]
  },
  {
   "cell_type": "code",
   "execution_count": 27,
   "metadata": {},
   "outputs": [
    {
     "name": "stdout",
     "output_type": "stream",
     "text": [
      "Nombre\n"
     ]
    }
   ],
   "source": [
    "print(excel_columns.column_a)"
   ]
  },
  {
   "cell_type": "code",
   "execution_count": 28,
   "metadata": {},
   "outputs": [],
   "source": [
    "\n",
    "def load_dictionary(source,destination_dictionary,source_cols,dest_cols):\n",
    "    destination_dictionary.append({\n",
    "            dest_cols.column_a:source[source_cols.column_a],\n",
    "            dest_cols.column_b:source[source_cols.column_b],\n",
    "            dest_cols.column_c:source[source_cols.column_c],            \n",
    "        })\n"
   ]
  },
  {
   "cell_type": "code",
   "execution_count": 29,
   "metadata": {},
   "outputs": [],
   "source": [
    "\n",
    "def import_csv_file(file_path,file_encoding):\n",
    "    with open(file_path,encoding=file_encoding) as csv_file:\n",
    "        reader = csv.DictReader(csv_file)    \n",
    "        for ordered_dict in reader:\n",
    "            load_dictionary(\n",
    "                ordered_dict,\n",
    "                converted_file_information,\n",
    "                excel_columns,\n",
    "                dictionary_columns\n",
    "                )"
   ]
  },
  {
   "cell_type": "code",
   "execution_count": 30,
   "metadata": {},
   "outputs": [],
   "source": [
    "\n",
    "import_csv_file(original_file,character_encoding)"
   ]
  },
  {
   "cell_type": "code",
   "execution_count": 31,
   "metadata": {},
   "outputs": [
    {
     "name": "stdout",
     "output_type": "stream",
     "text": [
      "[{'name': 'John', 'surname': 'Doe', 'state': 'Santa Fe'}, {'name': 'Selena', 'surname': 'Gomez', 'state': 'Córdoba'}, {'name': 'Barny', 'surname': 'Gómez', 'state': 'Springfield'}]\n"
     ]
    }
   ],
   "source": [
    "print(converted_file_information)"
   ]
  },
  {
   "cell_type": "code",
   "execution_count": 33,
   "metadata": {},
   "outputs": [],
   "source": [
    "def filter_by_name(given_surname):   \n",
    "    for dictionary in converted_file_information:\n",
    "        person_surname = dictionary[surname].lower()\n",
    "        if person_surname == given_surname:\n",
    "            print(person_surname)\n",
    "            load_dictionary(\n",
    "                dictionary,\n",
    "                information_filtered_by_name,\n",
    "                dictionary_columns,\n",
    "                dictionary_columns\n",
    "                )\n",
    "\n"
   ]
  },
  {
   "cell_type": "code",
   "execution_count": 34,
   "metadata": {},
   "outputs": [
    {
     "name": "stdout",
     "output_type": "stream",
     "text": [
      "gómez\n"
     ]
    }
   ],
   "source": [
    "\n",
    "filter_by_name('gómez')"
   ]
  },
  {
   "cell_type": "code",
   "execution_count": 35,
   "metadata": {},
   "outputs": [
    {
     "name": "stdout",
     "output_type": "stream",
     "text": [
      "[{'name': 'Barny', 'surname': 'Gómez', 'state': 'Springfield'}]\n"
     ]
    }
   ],
   "source": [
    "print(information_filtered_by_name)"
   ]
  },
  {
   "cell_type": "code",
   "execution_count": 67,
   "metadata": {},
   "outputs": [
    {
     "name": "stdout",
     "output_type": "stream",
     "text": [
      "santa fe\n",
      "córdoba\n"
     ]
    }
   ],
   "source": [
    "information_filtered_by_state = []\n",
    "\n",
    "for dictionary in converted_file_information:\n",
    "    person_state = dictionary[state].lower()\n",
    "    if person_state == 'córdoba' or person_state == 'santa fe':\n",
    "        print(person_state)\n",
    "        information_filtered_by_state.append({\n",
    "            'name':dictionary[name],\n",
    "            'surname':dictionary[surname],\n",
    "            'state':dictionary[state]   \n",
    "        })"
   ]
  },
  {
   "cell_type": "code",
   "execution_count": 68,
   "metadata": {},
   "outputs": [
    {
     "name": "stdout",
     "output_type": "stream",
     "text": [
      "[{'name': 'John', 'surname': 'Doe', 'state': 'Santa Fe'}, {'name': 'Selena', 'surname': 'Gomez', 'state': 'Córdoba'}]\n"
     ]
    }
   ],
   "source": [
    "print(information_filtered_by_state)"
   ]
  }
 ],
 "metadata": {
  "kernelspec": {
   "display_name": "Python 3.7.13 ('exam-virtual')",
   "language": "python",
   "name": "python3"
  },
  "language_info": {
   "codemirror_mode": {
    "name": "ipython",
    "version": 3
   },
   "file_extension": ".py",
   "mimetype": "text/x-python",
   "name": "python",
   "nbconvert_exporter": "python",
   "pygments_lexer": "ipython3",
   "version": "3.7.13"
  },
  "orig_nbformat": 4,
  "vscode": {
   "interpreter": {
    "hash": "94d249ff46b9b4cd1b91bea5784328511f984e01f14fa96abec34091615907f2"
   }
  }
 },
 "nbformat": 4,
 "nbformat_minor": 2
}
