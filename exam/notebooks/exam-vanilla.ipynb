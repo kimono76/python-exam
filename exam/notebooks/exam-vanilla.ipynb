{
 "cells": [
  {
   "cell_type": "code",
   "execution_count": 1,
   "metadata": {},
   "outputs": [],
   "source": [
    "import csv"
   ]
  },
  {
   "cell_type": "code",
   "execution_count": 10,
   "metadata": {},
   "outputs": [],
   "source": [
    "#original_file = r'f: ..\\files\\RecursosPython.csv'\n",
    "original_file ='../files/RecursosPython.csv'"
   ]
  },
  {
   "cell_type": "code",
   "execution_count": 11,
   "metadata": {},
   "outputs": [
    {
     "name": "stdout",
     "output_type": "stream",
     "text": [
      "OrderedDict([('Nombre', 'John'), ('Apellido', 'Doe'), ('Provincia', 'Santa Fe')])\n",
      "OrderedDict([('Nombre', 'Selena'), ('Apellido', 'Gomez'), ('Provincia', 'Cordoba')])\n",
      "OrderedDict([('Nombre', 'Barny'), ('Apellido', 'Gomez'), ('Provincia', 'Springfield')])\n"
     ]
    }
   ],
   "source": [
    "with open(original_file,encoding='utf-8-sig') as csv_file:\n",
    "    reader = csv.DictReader(csv_file)\n",
    "    name_col = {'Nombre':[]}\n",
    "    \n",
    "    for record in reader:\n",
    "        print(record)"
   ]
  }
 ],
 "metadata": {
  "kernelspec": {
   "display_name": "Python 3.7.13 ('exam-virtual')",
   "language": "python",
   "name": "python3"
  },
  "language_info": {
   "codemirror_mode": {
    "name": "ipython",
    "version": 3
   },
   "file_extension": ".py",
   "mimetype": "text/x-python",
   "name": "python",
   "nbconvert_exporter": "python",
   "pygments_lexer": "ipython3",
   "version": "3.7.13"
  },
  "orig_nbformat": 4,
  "vscode": {
   "interpreter": {
    "hash": "94d249ff46b9b4cd1b91bea5784328511f984e01f14fa96abec34091615907f2"
   }
  }
 },
 "nbformat": 4,
 "nbformat_minor": 2
}
