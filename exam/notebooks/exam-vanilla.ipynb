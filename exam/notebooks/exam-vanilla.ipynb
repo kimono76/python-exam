{
 "cells": [
  {
   "cell_type": "markdown",
   "metadata": {},
   "source": [
    "- We use the \"csv\" standard library for spreadsheet handling"
   ]
  },
  {
   "cell_type": "code",
   "execution_count": 217,
   "metadata": {},
   "outputs": [],
   "source": [
    "import csv"
   ]
  },
  {
   "cell_type": "markdown",
   "metadata": {},
   "source": [
    "- All the constants are here\n",
    "with this, we avoid the usage of \"magic strings\" througout the code"
   ]
  },
  {
   "cell_type": "code",
   "execution_count": 218,
   "metadata": {},
   "outputs": [],
   "source": [
    "original_file ='../files/recursosPython.csv'\n",
    "file_character_encoding = 'utf-8-sig'\n",
    "\n",
    "file_by_state ='../files/recursosPythonFiltradoPorProvincia.csv'\n",
    "file_setup_for_write_mode ='w'\n",
    "file_setup_for_new_line =''\n",
    "\n",
    "#DNI,Nombre,Apellido,Email,Fecha de nacimiento,Lugar de residencia\n",
    "\n",
    "column_id = 'DNI'\n",
    "column_name = 'Nombre'\n",
    "column_surname = 'Apellido'\n",
    "column_email = 'Email'\n",
    "column_bith_date = 'Fecha de nacimiento'\n",
    "column_location ='Lugar de residencia'\n",
    "\n",
    "id = 'id'\n",
    "name='name'\n",
    "surname='surname'\n",
    "email='email'\n",
    "birth_date='birth_date'\n",
    "location='state'\n",
    "\n",
    "given_surname_to_filter ='Gómez'\n",
    "given_location_to_filter ='Córdoba'"
   ]
  },
  {
   "cell_type": "markdown",
   "metadata": {},
   "source": [
    "- Below are all the data structures used in the program"
   ]
  },
  {
   "cell_type": "code",
   "execution_count": 219,
   "metadata": {},
   "outputs": [],
   "source": [
    "converted_file_information = []\n",
    "information_filtered_by_name = []\n",
    "information_filtered_by_state = []\n",
    "information_filtered_for_export_file = []\n",
    "\n",
    "class Columns:\n",
    "    def __init__(self, a, b, c, d, e, f ):\n",
    "        self.column_a = a\n",
    "        self.column_b = b\n",
    "        self.column_c = c\n",
    "        self.column_d = d\n",
    "        self.column_e = e\n",
    "        self.column_f = f\n"
   ]
  },
  {
   "cell_type": "markdown",
   "metadata": {},
   "source": [
    "- These are the instances of the clases that we'll use"
   ]
  },
  {
   "cell_type": "code",
   "execution_count": 220,
   "metadata": {},
   "outputs": [],
   "source": [
    "\n",
    "excel_columns = Columns(\n",
    "    column_id,\n",
    "    column_name,\n",
    "    column_surname,\n",
    "    column_email,\n",
    "    column_bith_date,\n",
    "    column_location\n",
    "    )\n",
    "\n",
    "dictionary_columns = Columns(\n",
    "    id,\n",
    "    name,\n",
    "    surname,\n",
    "    email,\n",
    "    birth_date,\n",
    "    location\n",
    ")"
   ]
  },
  {
   "cell_type": "markdown",
   "metadata": {},
   "source": [
    "- By using this function we'll load data durin file import/export"
   ]
  },
  {
   "cell_type": "code",
   "execution_count": 221,
   "metadata": {},
   "outputs": [],
   "source": [
    "\n",
    "def load_dictionary(\n",
    "    source,destination,\n",
    "    source_cols,destination_cols\n",
    "    ):\n",
    "    destination.append({\n",
    "            destination_cols.column_a:source[source_cols.column_a],\n",
    "            destination_cols.column_b:source[source_cols.column_b],\n",
    "            destination_cols.column_c:source[source_cols.column_c],\n",
    "            destination_cols.column_d:source[source_cols.column_d],  \n",
    "            destination_cols.column_e:source[source_cols.column_e],  \n",
    "            destination_cols.column_f:source[source_cols.column_f],              \n",
    "        })\n"
   ]
  },
  {
   "cell_type": "code",
   "execution_count": 236,
   "metadata": {},
   "outputs": [],
   "source": [
    "\n",
    "def load_dictionary_from_another_dictionary(\n",
    "    source_dictionary,destination_dictionary,\n",
    "    source_cols,dest_cols\n",
    "    ):\n",
    "    for source_register in source_dictionary:\n",
    "        # load_dictionary(\n",
    "        #     source_register,destination_dictionary,\n",
    "        #     source_cols,dest_cols\n",
    "        #     )\n",
    "        destination_dictionary.append({\n",
    "                #dest_cols.column_a:source_register[source_cols.column_a],\n",
    "                dest_cols.column_b:source_register[source_cols.column_b],\n",
    "                dest_cols.column_c:source_register[source_cols.column_c],            \n",
    "            })"
   ]
  },
  {
   "cell_type": "markdown",
   "metadata": {},
   "source": [
    "- This function is used to import a file from the spreadsheet into a dictionary list"
   ]
  },
  {
   "cell_type": "code",
   "execution_count": 223,
   "metadata": {},
   "outputs": [],
   "source": [
    "# TODO add try except\n",
    "def import_csv_file(file_path,file_character_encoding):\n",
    "    converted_file_information.clear()\n",
    "    with open(file_path,encoding=file_character_encoding) as original_csv_file:\n",
    "        reader = csv.DictReader(original_csv_file)    \n",
    "        for ordered_dict in reader:\n",
    "            load_dictionary(\n",
    "                ordered_dict,\n",
    "                converted_file_information,\n",
    "                excel_columns,\n",
    "                dictionary_columns\n",
    "                )"
   ]
  },
  {
   "cell_type": "code",
   "execution_count": 224,
   "metadata": {},
   "outputs": [],
   "source": [
    "\n",
    "import_csv_file(original_file,file_character_encoding)"
   ]
  },
  {
   "cell_type": "code",
   "execution_count": 226,
   "metadata": {},
   "outputs": [
    {
     "name": "stdout",
     "output_type": "stream",
     "text": [
      "[{'id': '40123456', 'name': 'Jose', 'surname': 'Perez', 'email': 'jose@perez.com', 'birth_date': '23/10/1995', 'state': 'Santa Fe'}, {'id': '45123456', 'name': 'Mariana', 'surname': 'Gomez', 'email': 'mariana@gomez.com', 'birth_date': '10/02/1998', 'state': 'Cordoba'}, {'id': '50123456', 'name': 'Gisela', 'surname': 'Gimenez', 'email': 'gisela@gimenez.com', 'birth_date': '20/04/2000', 'state': 'Buenos Aires'}, {'id': '38123456', 'name': 'Javier', 'surname': 'Gonzalez', 'email': 'javier@gonzalez.com', 'birth_date': '05/09/1993', 'state': 'Santa Fe'}, {'id': '50123123', 'name': 'Gonzalo', 'surname': 'Gomez', 'email': 'gonzalo@gomez.com', 'birth_date': '10/01/2005', 'state': 'Cordoba'}]\n"
     ]
    }
   ],
   "source": [
    "print(converted_file_information)"
   ]
  },
  {
   "cell_type": "markdown",
   "metadata": {},
   "source": [
    "- This function filters the dictionary using the name of the person as the search criteria"
   ]
  },
  {
   "cell_type": "code",
   "execution_count": 227,
   "metadata": {},
   "outputs": [],
   "source": [
    "def filter_by_name(given_surname):\n",
    "    information_filtered_by_name.clear()\n",
    "    for dictionary in converted_file_information:\n",
    "        person_surname = dictionary[surname].lower()\n",
    "        if person_surname == given_surname.lower():\n",
    "            load_dictionary(\n",
    "                dictionary,\n",
    "                information_filtered_by_name,\n",
    "                dictionary_columns,\n",
    "                dictionary_columns\n",
    "                )\n"
   ]
  },
  {
   "cell_type": "code",
   "execution_count": 228,
   "metadata": {},
   "outputs": [
    {
     "name": "stdout",
     "output_type": "stream",
     "text": [
      "gomez {'id': '45123456', 'name': 'Mariana', 'surname': 'Gomez', 'email': 'mariana@gomez.com', 'birth_date': '10/02/1998', 'state': 'Cordoba'}\n",
      "gomez {'id': '50123123', 'name': 'Gonzalo', 'surname': 'Gomez', 'email': 'gonzalo@gomez.com', 'birth_date': '10/01/2005', 'state': 'Cordoba'}\n",
      "total found = 2\n"
     ]
    }
   ],
   "source": [
    "\n",
    "filter_by_name('gomez')"
   ]
  },
  {
   "cell_type": "code",
   "execution_count": 229,
   "metadata": {},
   "outputs": [
    {
     "name": "stdout",
     "output_type": "stream",
     "text": [
      "[{'id': '45123456', 'name': 'Mariana', 'surname': 'Gomez', 'email': 'mariana@gomez.com', 'birth_date': '10/02/1998', 'state': 'Cordoba'}, {'id': '50123123', 'name': 'Gonzalo', 'surname': 'Gomez', 'email': 'gonzalo@gomez.com', 'birth_date': '10/01/2005', 'state': 'Cordoba'}]\n"
     ]
    }
   ],
   "source": [
    "print(information_filtered_by_name)"
   ]
  },
  {
   "cell_type": "code",
   "execution_count": 231,
   "metadata": {},
   "outputs": [
    {
     "name": "stdout",
     "output_type": "stream",
     "text": [
      "santa fe\n",
      "cordoba\n",
      "santa fe\n",
      "cordoba\n"
     ]
    }
   ],
   "source": [
    "information_filtered_by_state.clear()\n",
    "\n",
    "for dictionary in converted_file_information:\n",
    "    person_state = dictionary[location].lower()\n",
    "    if person_state == 'cordoba' or person_state == 'santa fe':\n",
    "        information_filtered_by_state.append({\n",
    "            'name':dictionary[name],\n",
    "            'surname':dictionary[surname],\n",
    "            'state':dictionary[location]   \n",
    "        })"
   ]
  },
  {
   "cell_type": "code",
   "execution_count": 232,
   "metadata": {},
   "outputs": [
    {
     "name": "stdout",
     "output_type": "stream",
     "text": [
      "[{'name': 'Jose', 'surname': 'Perez', 'state': 'Santa Fe'}, {'name': 'Mariana', 'surname': 'Gomez', 'state': 'Cordoba'}, {'name': 'Javier', 'surname': 'Gonzalez', 'state': 'Santa Fe'}, {'name': 'Gonzalo', 'surname': 'Gomez', 'state': 'Cordoba'}]\n"
     ]
    }
   ],
   "source": [
    "print(information_filtered_by_state)"
   ]
  },
  {
   "cell_type": "code",
   "execution_count": 237,
   "metadata": {},
   "outputs": [],
   "source": [
    "information_filtered_for_export_file.clear()\n",
    "load_dictionary_from_another_dictionary(\n",
    "    information_filtered_by_state,\n",
    "    information_filtered_for_export_file,\n",
    "    dictionary_columns,\n",
    "    excel_columns\n",
    "    )"
   ]
  },
  {
   "cell_type": "code",
   "execution_count": 238,
   "metadata": {},
   "outputs": [
    {
     "name": "stdout",
     "output_type": "stream",
     "text": [
      "[{'Nombre': 'Jose', 'Apellido': 'Perez'}, {'Nombre': 'Mariana', 'Apellido': 'Gomez'}, {'Nombre': 'Javier', 'Apellido': 'Gonzalez'}, {'Nombre': 'Gonzalo', 'Apellido': 'Gomez'}]\n"
     ]
    }
   ],
   "source": [
    "print(information_filtered_for_export_file)"
   ]
  },
  {
   "cell_type": "code",
   "execution_count": null,
   "metadata": {},
   "outputs": [],
   "source": [
    "with open(\n",
    "    file_by_state,file_setup_for_write_mode,newline=file_setup_for_new_line\n",
    "    ) as destination_csv_file:\n",
    "    \n",
    "    fieldnames=[excel_columns.column_a,excel_columns.column_b,excel_columns.column_c]\n",
    "    \n",
    "    csv_dictionary_writer = csv.DictWriter(destination_csv_file,fieldnames=fieldnames)\n",
    "    csv_dictionary_writer.writeheader()\n",
    "    \n",
    "    for dictionary in information_filtered_for_export_file:\n",
    "        csv_dictionary_writer.writerow(dictionary)"
   ]
  }
 ],
 "metadata": {
  "kernelspec": {
   "display_name": "Python 3.7.13 ('exam-virtual')",
   "language": "python",
   "name": "python3"
  },
  "language_info": {
   "codemirror_mode": {
    "name": "ipython",
    "version": 3
   },
   "file_extension": ".py",
   "mimetype": "text/x-python",
   "name": "python",
   "nbconvert_exporter": "python",
   "pygments_lexer": "ipython3",
   "version": "3.7.13"
  },
  "orig_nbformat": 4,
  "vscode": {
   "interpreter": {
    "hash": "94d249ff46b9b4cd1b91bea5784328511f984e01f14fa96abec34091615907f2"
   }
  }
 },
 "nbformat": 4,
 "nbformat_minor": 2
}
