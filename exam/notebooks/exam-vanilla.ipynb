{
 "cells": [
  {
   "cell_type": "markdown",
   "metadata": {},
   "source": [
    "- We use the \"csv\" standard library for spreadsheet handling"
   ]
  },
  {
   "cell_type": "code",
   "execution_count": 88,
   "metadata": {},
   "outputs": [],
   "source": [
    "import csv"
   ]
  },
  {
   "cell_type": "markdown",
   "metadata": {},
   "source": [
    "- All the constants are here\n",
    "with the usage of those, we avoid the usage of \"magic strings\" througout the code"
   ]
  },
  {
   "cell_type": "code",
   "execution_count": 89,
   "metadata": {},
   "outputs": [],
   "source": [
    "original_file ='../files/RecursosPython.csv'\n",
    "character_encoding = 'utf-8-sig'\n",
    "\n",
    "column_name = 'Nombre'\n",
    "column_surname = 'Apellido'\n",
    "column_state ='Provincia'\n",
    "\n",
    "name='name'\n",
    "surname='surname'\n",
    "state='state'\n",
    "\n",
    "given_surname_to_filter ='Gómez'\n",
    "given_location_to_filter ='Córdoba'"
   ]
  },
  {
   "cell_type": "markdown",
   "metadata": {},
   "source": [
    "- Below are all the data structures used in the program"
   ]
  },
  {
   "cell_type": "code",
   "execution_count": 90,
   "metadata": {},
   "outputs": [],
   "source": [
    "converted_file_information = []\n",
    "information_filtered_by_name = []\n",
    "information_filtered_by_state = []\n",
    "\n",
    "class Columns:\n",
    "    def __init__(self, a, b, c):\n",
    "        self.column_a = a\n",
    "        self.column_b = b\n",
    "        self.column_c = c\n"
   ]
  },
  {
   "cell_type": "markdown",
   "metadata": {},
   "source": [
    "- These are the instances of the clases that we'll use"
   ]
  },
  {
   "cell_type": "code",
   "execution_count": 91,
   "metadata": {},
   "outputs": [],
   "source": [
    "\n",
    "excel_columns = Columns(\n",
    "    column_name,\n",
    "    column_surname,\n",
    "    column_state\n",
    "    )\n",
    "\n",
    "dictionary_columns = Columns(\n",
    "    name,\n",
    "    surname,\n",
    "    state\n",
    ")"
   ]
  },
  {
   "cell_type": "markdown",
   "metadata": {},
   "source": [
    "- By using this function we'll avoid code duplication"
   ]
  },
  {
   "cell_type": "code",
   "execution_count": 92,
   "metadata": {},
   "outputs": [],
   "source": [
    "\n",
    "def load_dictionary(\n",
    "    source,destination_dictionary,\n",
    "    source_cols,dest_cols\n",
    "    ):\n",
    "    destination_dictionary.append({\n",
    "            dest_cols.column_a:source[source_cols.column_a],\n",
    "            dest_cols.column_b:source[source_cols.column_b],\n",
    "            dest_cols.column_c:source[source_cols.column_c],            \n",
    "        })\n"
   ]
  },
  {
   "cell_type": "markdown",
   "metadata": {},
   "source": [
    "- This function is used to import a file from the spreadsheet into a dictionary list"
   ]
  },
  {
   "cell_type": "code",
   "execution_count": 93,
   "metadata": {},
   "outputs": [],
   "source": [
    "\n",
    "def import_csv_file(file_path,file_encoding):\n",
    "    converted_file_information.clear()\n",
    "    with open(file_path,encoding=file_encoding) as csv_file:\n",
    "        reader = csv.DictReader(csv_file)    \n",
    "        for ordered_dict in reader:\n",
    "            load_dictionary(\n",
    "                ordered_dict,\n",
    "                converted_file_information,\n",
    "                excel_columns,\n",
    "                dictionary_columns\n",
    "                )"
   ]
  },
  {
   "cell_type": "code",
   "execution_count": 94,
   "metadata": {},
   "outputs": [],
   "source": [
    "\n",
    "import_csv_file(original_file,character_encoding)"
   ]
  },
  {
   "cell_type": "code",
   "execution_count": 95,
   "metadata": {},
   "outputs": [
    {
     "name": "stdout",
     "output_type": "stream",
     "text": [
      "[{'name': 'John', 'surname': 'Doe', 'state': 'Santa Fe'}, {'name': 'Selena', 'surname': 'Gomez', 'state': 'Córdoba'}, {'name': 'Barny', 'surname': 'Gómez', 'state': 'Springfield'}]\n"
     ]
    }
   ],
   "source": [
    "print(converted_file_information)"
   ]
  },
  {
   "cell_type": "markdown",
   "metadata": {},
   "source": [
    "- This function filters the dictionary using the name of the person as the search criteria"
   ]
  },
  {
   "cell_type": "code",
   "execution_count": 96,
   "metadata": {},
   "outputs": [],
   "source": [
    "def filter_by_name(given_surname):\n",
    "    count = 0\n",
    "    information_filtered_by_name.clear()\n",
    "    for dictionary in converted_file_information:\n",
    "        person_surname = dictionary[surname].lower()\n",
    "        if person_surname == given_surname.lower():\n",
    "            count=count + 1\n",
    "            print(person_surname, dictionary)\n",
    "            load_dictionary(\n",
    "                dictionary,\n",
    "                information_filtered_by_name,\n",
    "                dictionary_columns,\n",
    "                dictionary_columns\n",
    "                )\n",
    "    print('total found =',count)\n"
   ]
  },
  {
   "cell_type": "code",
   "execution_count": 97,
   "metadata": {},
   "outputs": [
    {
     "name": "stdout",
     "output_type": "stream",
     "text": [
      "gómez {'name': 'Barny', 'surname': 'Gómez', 'state': 'Springfield'}\n",
      "total found = 1\n"
     ]
    }
   ],
   "source": [
    "\n",
    "filter_by_name('gómez')"
   ]
  },
  {
   "cell_type": "code",
   "execution_count": 98,
   "metadata": {},
   "outputs": [
    {
     "name": "stdout",
     "output_type": "stream",
     "text": [
      "[{'name': 'Barny', 'surname': 'Gómez', 'state': 'Springfield'}]\n"
     ]
    }
   ],
   "source": [
    "print(information_filtered_by_name)"
   ]
  },
  {
   "cell_type": "code",
   "execution_count": 99,
   "metadata": {},
   "outputs": [
    {
     "name": "stdout",
     "output_type": "stream",
     "text": [
      "santa fe\n",
      "córdoba\n"
     ]
    }
   ],
   "source": [
    "information_filtered_by_state.clear()\n",
    "\n",
    "for dictionary in converted_file_information:\n",
    "    person_state = dictionary[state].lower()\n",
    "    if person_state == 'córdoba' or person_state == 'santa fe':\n",
    "        print(person_state)\n",
    "        information_filtered_by_state.append({\n",
    "            'name':dictionary[name],\n",
    "            'surname':dictionary[surname],\n",
    "            'state':dictionary[state]   \n",
    "        })"
   ]
  },
  {
   "cell_type": "code",
   "execution_count": 100,
   "metadata": {},
   "outputs": [
    {
     "name": "stdout",
     "output_type": "stream",
     "text": [
      "[{'name': 'John', 'surname': 'Doe', 'state': 'Santa Fe'}, {'name': 'Selena', 'surname': 'Gomez', 'state': 'Córdoba'}]\n"
     ]
    }
   ],
   "source": [
    "print(information_filtered_by_state)"
   ]
  },
  {
   "cell_type": "code",
   "execution_count": null,
   "metadata": {},
   "outputs": [],
   "source": []
  }
 ],
 "metadata": {
  "kernelspec": {
   "display_name": "Python 3.7.13 ('exam-virtual')",
   "language": "python",
   "name": "python3"
  },
  "language_info": {
   "codemirror_mode": {
    "name": "ipython",
    "version": 3
   },
   "file_extension": ".py",
   "mimetype": "text/x-python",
   "name": "python",
   "nbconvert_exporter": "python",
   "pygments_lexer": "ipython3",
   "version": "3.7.13"
  },
  "orig_nbformat": 4,
  "vscode": {
   "interpreter": {
    "hash": "94d249ff46b9b4cd1b91bea5784328511f984e01f14fa96abec34091615907f2"
   }
  }
 },
 "nbformat": 4,
 "nbformat_minor": 2
}
