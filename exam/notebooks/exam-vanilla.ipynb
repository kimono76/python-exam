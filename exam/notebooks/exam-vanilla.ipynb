{
 "cells": [
  {
   "cell_type": "markdown",
   "metadata": {},
   "source": [
    "### We use the \"csv\" standard library for spreadsheet handling"
   ]
  },
  {
   "cell_type": "code",
   "execution_count": 16,
   "metadata": {},
   "outputs": [],
   "source": [
    "import csv"
   ]
  },
  {
   "cell_type": "markdown",
   "metadata": {},
   "source": [
    "### All the constants are here\n",
    "### By using this, we avoid the usage of \"magic strings\" througout the code"
   ]
  },
  {
   "cell_type": "code",
   "execution_count": 83,
   "metadata": {},
   "outputs": [],
   "source": [
    "original_file ='../files/recursosPython.csv'\n",
    "file_character_encoding = 'utf-8-sig'\n",
    "\n",
    "file_by_state ='../files/recursosPythonFiltradoPorProvincia.csv'\n",
    "file_setup_for_write_mode ='w'\n",
    "file_setup_for_new_line =''\n",
    "\n",
    "column_id = 'DNI'\n",
    "column_name = 'Nombre'\n",
    "column_surname = 'Apellido'\n",
    "column_email = 'Email'\n",
    "column_bith_date = 'Fecha de nacimiento'\n",
    "column_location ='Lugar de residencia'\n",
    "\n",
    "id = 'id'\n",
    "name='name'\n",
    "surname='surname'\n",
    "email='email'\n",
    "birth_date='birth_date'\n",
    "location='location'\n",
    "\n",
    "given_surname_to_filter ='Gomez'\n",
    "given_location_to_filter ='Cordoba'"
   ]
  },
  {
   "cell_type": "markdown",
   "metadata": {},
   "source": [
    "### Here are all the data structures used in the program"
   ]
  },
  {
   "cell_type": "code",
   "execution_count": 84,
   "metadata": {},
   "outputs": [],
   "source": [
    "converted_file_information = []\n",
    "information_filtered_by_name = []\n",
    "information_filtered_by_state = []\n",
    "information_filtered_for_export_file = []\n"
   ]
  },
  {
   "cell_type": "markdown",
   "metadata": {},
   "source": [
    "### this class is used for the columns of the Excel file. The properties from a to f are relatives to the columns A .. F in the excel spreadsheet"
   ]
  },
  {
   "cell_type": "code",
   "execution_count": 85,
   "metadata": {},
   "outputs": [],
   "source": [
    "\n",
    "class Columns:\n",
    "    def __init__(self, a, b, c, d, e, f ):\n",
    "        self.column_list =[a,b,c,d,e,f]\n"
   ]
  },
  {
   "cell_type": "markdown",
   "metadata": {},
   "source": [
    "### These are the instances of the clases that we'll use. One for the columns in the original file, and another for the keys in the converted dictionary"
   ]
  },
  {
   "cell_type": "code",
   "execution_count": 86,
   "metadata": {},
   "outputs": [],
   "source": [
    "\n",
    "excel_columns = Columns(\n",
    "    column_id,\n",
    "    column_name,\n",
    "    column_surname,\n",
    "    column_email,\n",
    "    column_bith_date,\n",
    "    column_location\n",
    "    )\n",
    "\n",
    "dictionary_columns = Columns(\n",
    "    id,\n",
    "    name,\n",
    "    surname,\n",
    "    email,\n",
    "    birth_date,\n",
    "    location\n",
    ")\n",
    "\n"
   ]
  },
  {
   "cell_type": "markdown",
   "metadata": {},
   "source": [
    "### By using this function we'll load data during file import/export"
   ]
  },
  {
   "cell_type": "code",
   "execution_count": 87,
   "metadata": {},
   "outputs": [],
   "source": [
    "\n",
    "def load_dictionary(\n",
    "    source,destination,\n",
    "    source_cols,destination_cols\n",
    "    ):\n",
    "\n",
    "    number_of_columns_from_source_file = len(source_cols.column_list)\n",
    "    \n",
    "    def get_the_dictionary_key(destination_cols,column):\n",
    "        return destination_cols.column_list[column]\n",
    "\n",
    "    def get_the_cell_value(source,source_cols,column):\n",
    "        return source[source_cols.column_list[column]]\n",
    "        \n",
    "    row = {\n",
    "        get_the_dictionary_key(destination_cols,column): get_the_cell_value(source,source_cols,column) \n",
    "        for column in range(number_of_columns_from_source_file)\n",
    "        }\n",
    "    \n",
    "    destination.append(row)\n"
   ]
  },
  {
   "cell_type": "code",
   "execution_count": 36,
   "metadata": {},
   "outputs": [],
   "source": [
    "\n",
    "def load_dictionary_from_another_dictionary(\n",
    "    source_dictionary,destination_dictionary,\n",
    "    source_cols,dest_cols\n",
    "    ):\n",
    "    for source_register in source_dictionary:\n",
    "        # load_dictionary(\n",
    "        #     source_register,destination_dictionary,\n",
    "        #     source_cols,dest_cols\n",
    "        #     )\n",
    "        destination_dictionary.append({\n",
    "                #dest_cols.column_a:source_register[source_cols.column_a],\n",
    "                dest_cols.column_b:source_register[source_cols.column_b],\n",
    "                dest_cols.column_c:source_register[source_cols.column_c],            \n",
    "            })"
   ]
  },
  {
   "cell_type": "markdown",
   "metadata": {},
   "source": [
    "- This function is used to import a file from the spreadsheet into a dictionary list"
   ]
  },
  {
   "cell_type": "code",
   "execution_count": 88,
   "metadata": {},
   "outputs": [],
   "source": [
    "# TODO add try except\n",
    "def import_csv_file(file_path,file_character_encoding):\n",
    "    converted_file_information.clear()\n",
    "    with open(file_path,encoding=file_character_encoding) as original_csv_file:\n",
    "        reader = csv.DictReader(original_csv_file)    \n",
    "        for ordered_dict in reader:\n",
    "            load_dictionary(\n",
    "                ordered_dict,\n",
    "                converted_file_information,\n",
    "                excel_columns,\n",
    "                dictionary_columns\n",
    "                )\n"
   ]
  },
  {
   "cell_type": "code",
   "execution_count": 89,
   "metadata": {},
   "outputs": [
    {
     "name": "stdout",
     "output_type": "stream",
     "text": [
      "[{'id': '40123456', 'name': 'Jose', 'surname': 'Perez', 'email': 'jose@perez.com', 'birth_date': '23/10/1995', 'location': 'Santa Fe'}, {'id': '45123456', 'name': 'Mariana', 'surname': 'Gomez', 'email': 'mariana@gomez.com', 'birth_date': '10/02/1998', 'location': 'Cordoba'}, {'id': '50123456', 'name': 'Gisela', 'surname': 'Gimenez', 'email': 'gisela@gimenez.com', 'birth_date': '20/04/2000', 'location': 'Buenos Aires'}, {'id': '38123456', 'name': 'Javier', 'surname': 'Gonzalez', 'email': 'javier@gonzalez.com', 'birth_date': '05/09/1993', 'location': 'Santa Fe'}, {'id': '50123123', 'name': 'Gonzalo', 'surname': 'Gomez', 'email': 'gonzalo@gomez.com', 'birth_date': '10/01/2005', 'location': 'Cordoba'}]\n"
     ]
    }
   ],
   "source": [
    "\n",
    "import_csv_file(original_file,file_character_encoding)\n",
    "print(converted_file_information)"
   ]
  },
  {
   "cell_type": "code",
   "execution_count": null,
   "metadata": {},
   "outputs": [
    {
     "name": "stdout",
     "output_type": "stream",
     "text": [
      "[{'id': '40123456', 'name': 'Jose', 'surname': 'Perez', 'email': 'jose@perez.com', 'birth_date': '23/10/1995', 'state': 'Santa Fe'}, {'id': '45123456', 'name': 'Mariana', 'surname': 'Gomez', 'email': 'mariana@gomez.com', 'birth_date': '10/02/1998', 'state': 'Cordoba'}, {'id': '50123456', 'name': 'Gisela', 'surname': 'Gimenez', 'email': 'gisela@gimenez.com', 'birth_date': '20/04/2000', 'state': 'Buenos Aires'}, {'id': '38123456', 'name': 'Javier', 'surname': 'Gonzalez', 'email': 'javier@gonzalez.com', 'birth_date': '05/09/1993', 'state': 'Santa Fe'}, {'id': '50123123', 'name': 'Gonzalo', 'surname': 'Gomez', 'email': 'gonzalo@gomez.com', 'birth_date': '10/01/2005', 'state': 'Cordoba'}]\n"
     ]
    }
   ],
   "source": [
    "print(converted_file_information)"
   ]
  },
  {
   "cell_type": "markdown",
   "metadata": {},
   "source": [
    "- This function filters the dictionary using the name of the person as the search criteria"
   ]
  },
  {
   "cell_type": "code",
   "execution_count": 90,
   "metadata": {},
   "outputs": [],
   "source": [
    "def filter_by_name(given_surname):\n",
    "    information_filtered_by_name.clear()\n",
    "    for dictionary in converted_file_information:\n",
    "        person_surname = dictionary[surname].lower()\n",
    "        if person_surname == given_surname.lower():\n",
    "            load_dictionary(\n",
    "                dictionary,\n",
    "                information_filtered_by_name,\n",
    "                dictionary_columns,\n",
    "                dictionary_columns\n",
    "                )\n"
   ]
  },
  {
   "cell_type": "code",
   "execution_count": 91,
   "metadata": {},
   "outputs": [],
   "source": [
    "\n",
    "filter_by_name('gomez')"
   ]
  },
  {
   "cell_type": "code",
   "execution_count": 103,
   "metadata": {},
   "outputs": [
    {
     "name": "stdout",
     "output_type": "stream",
     "text": [
      "Estas son los datos de las personas cuyo apellido es Gomez\n",
      "\n",
      "1 de 2 : MARIANA GOMEZ\n",
      "DNI: 45123456\n",
      "Email: mariana@gomez.com\n",
      "Fecha de nacimiento: 10/02/1998\n",
      "Lugar de residencia: Cordoba\n",
      "-------------------------------------------------------------\n",
      "\n",
      "2 de 2 : GONZALO GOMEZ\n",
      "DNI: 50123123\n",
      "Email: gonzalo@gomez.com\n",
      "Fecha de nacimiento: 10/01/2005\n",
      "Lugar de residencia: Cordoba\n",
      "-------------------------------------------------------------\n",
      "[{'id': '45123456', 'name': 'Mariana', 'surname': 'Gomez', 'email': 'mariana@gomez.com', 'birth_date': '10/02/1998', 'location': 'Cordoba'}, {'id': '50123123', 'name': 'Gonzalo', 'surname': 'Gomez', 'email': 'gonzalo@gomez.com', 'birth_date': '10/01/2005', 'location': 'Cordoba'}]\n"
     ]
    }
   ],
   "source": [
    "print('Estas son los datos de las personas cuyo apellido es','Gomez')\n",
    "total = len(information_filtered_by_name)\n",
    "count =1\n",
    "for person_filtered_data in information_filtered_by_name:\n",
    "    print()\n",
    "    print(\n",
    "        count,'de',total,':',\n",
    "        person_filtered_data[name].upper(), person_filtered_data[surname].upper()\n",
    "        )\n",
    "    print('DNI:',person_filtered_data[id])\n",
    "    print('Email:',person_filtered_data[email])\n",
    "    print('Fecha de nacimiento:',person_filtered_data[birth_date])\n",
    "    print('Lugar de residencia:',person_filtered_data[location])\n",
    "    print('-------------------------------------------------------------')\n",
    "    count = count + 1"
   ]
  },
  {
   "cell_type": "code",
   "execution_count": null,
   "metadata": {},
   "outputs": [
    {
     "name": "stdout",
     "output_type": "stream",
     "text": [
      "santa fe\n",
      "cordoba\n",
      "santa fe\n",
      "cordoba\n"
     ]
    }
   ],
   "source": [
    "information_filtered_by_state.clear()\n",
    "\n",
    "for dictionary in converted_file_information:\n",
    "    person_state = dictionary[location].lower()\n",
    "    if person_state == 'cordoba' or person_state == 'santa fe':\n",
    "        information_filtered_by_state.append({\n",
    "            'name':dictionary[name],\n",
    "            'surname':dictionary[surname],\n",
    "            'state':dictionary[location]   \n",
    "        })"
   ]
  },
  {
   "cell_type": "code",
   "execution_count": null,
   "metadata": {},
   "outputs": [
    {
     "name": "stdout",
     "output_type": "stream",
     "text": [
      "[{'name': 'Jose', 'surname': 'Perez', 'state': 'Santa Fe'}, {'name': 'Mariana', 'surname': 'Gomez', 'state': 'Cordoba'}, {'name': 'Javier', 'surname': 'Gonzalez', 'state': 'Santa Fe'}, {'name': 'Gonzalo', 'surname': 'Gomez', 'state': 'Cordoba'}]\n"
     ]
    }
   ],
   "source": [
    "print(information_filtered_by_state)"
   ]
  },
  {
   "cell_type": "code",
   "execution_count": null,
   "metadata": {},
   "outputs": [],
   "source": [
    "information_filtered_for_export_file.clear()\n",
    "load_dictionary_from_another_dictionary(\n",
    "    information_filtered_by_state,\n",
    "    information_filtered_for_export_file,\n",
    "    dictionary_columns,\n",
    "    excel_columns\n",
    "    )"
   ]
  },
  {
   "cell_type": "code",
   "execution_count": null,
   "metadata": {},
   "outputs": [
    {
     "name": "stdout",
     "output_type": "stream",
     "text": [
      "[{'Nombre': 'Jose', 'Apellido': 'Perez'}, {'Nombre': 'Mariana', 'Apellido': 'Gomez'}, {'Nombre': 'Javier', 'Apellido': 'Gonzalez'}, {'Nombre': 'Gonzalo', 'Apellido': 'Gomez'}]\n"
     ]
    }
   ],
   "source": [
    "print(information_filtered_for_export_file)"
   ]
  },
  {
   "cell_type": "code",
   "execution_count": null,
   "metadata": {},
   "outputs": [],
   "source": [
    "with open(\n",
    "    file_by_state,file_setup_for_write_mode,newline=file_setup_for_new_line\n",
    "    ) as destination_csv_file:\n",
    "    \n",
    "    fieldnames=[excel_columns.column_a,excel_columns.column_b,excel_columns.column_c]\n",
    "    \n",
    "    csv_dictionary_writer = csv.DictWriter(destination_csv_file,fieldnames=fieldnames)\n",
    "    csv_dictionary_writer.writeheader()\n",
    "    \n",
    "    for dictionary in information_filtered_for_export_file:\n",
    "        csv_dictionary_writer.writerow(dictionary)"
   ]
  }
 ],
 "metadata": {
  "kernelspec": {
   "display_name": "Python 3.7.13 ('exam-virtual')",
   "language": "python",
   "name": "python3"
  },
  "language_info": {
   "codemirror_mode": {
    "name": "ipython",
    "version": 3
   },
   "file_extension": ".py",
   "mimetype": "text/x-python",
   "name": "python",
   "nbconvert_exporter": "python",
   "pygments_lexer": "ipython3",
   "version": "3.7.13"
  },
  "orig_nbformat": 4,
  "vscode": {
   "interpreter": {
    "hash": "94d249ff46b9b4cd1b91bea5784328511f984e01f14fa96abec34091615907f2"
   }
  }
 },
 "nbformat": 4,
 "nbformat_minor": 2
}
