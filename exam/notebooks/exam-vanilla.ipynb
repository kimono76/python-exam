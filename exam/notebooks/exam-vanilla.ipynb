{
 "cells": [
  {
   "cell_type": "code",
   "execution_count": 59,
   "metadata": {},
   "outputs": [],
   "source": [
    "import csv"
   ]
  },
  {
   "cell_type": "code",
   "execution_count": 60,
   "metadata": {},
   "outputs": [],
   "source": [
    "original_file ='../files/RecursosPython.csv'\n",
    "character_encoding = 'utf-8-sig'\n",
    "\n",
    "column_name = 'Nombre'\n",
    "column_surname = 'Apellido'\n",
    "column_state ='Provincia'\n",
    "\n",
    "name='name'\n",
    "surname='surname'\n",
    "state='state'\n",
    "\n",
    "given_surname_to_filter ='Gómez'\n",
    "given_location_to_filter ='Córdoba'\n",
    "\n",
    "converted_file_information = []\n",
    "information_filtered_by_name = []\n"
   ]
  },
  {
   "cell_type": "code",
   "execution_count": 61,
   "metadata": {},
   "outputs": [],
   "source": [
    "\n",
    "def load_dictionary(source_ordered_dict,destination_dictionary):\n",
    "    destination_dictionary.append({\n",
    "            'name':source_ordered_dict[column_name],\n",
    "            'surname':source_ordered_dict[column_surname],\n",
    "            'state':source_ordered_dict[column_state]\n",
    "        })\n"
   ]
  },
  {
   "cell_type": "code",
   "execution_count": 62,
   "metadata": {},
   "outputs": [
    {
     "name": "stdout",
     "output_type": "stream",
     "text": [
      "OrderedDict([('Nombre', 'John'), ('Apellido', 'Doe'), ('Provincia', 'Santa Fe')])\n",
      "OrderedDict([('Nombre', 'Selena'), ('Apellido', 'Gomez'), ('Provincia', 'Córdoba')])\n",
      "OrderedDict([('Nombre', 'Barny'), ('Apellido', 'Gómez'), ('Provincia', 'Springfield')])\n"
     ]
    }
   ],
   "source": [
    "\n",
    "with open(original_file,encoding=character_encoding) as csv_file:\n",
    "    reader = csv.DictReader(csv_file)    \n",
    "    for ordered_dict in reader:\n",
    "        print(ordered_dict)\n",
    "        load_dictionary(ordered_dict,converted_file_information)"
   ]
  },
  {
   "cell_type": "code",
   "execution_count": 63,
   "metadata": {},
   "outputs": [
    {
     "name": "stdout",
     "output_type": "stream",
     "text": [
      "[{'name': 'John', 'surname': 'Doe', 'state': 'Santa Fe'}, {'name': 'Selena', 'surname': 'Gomez', 'state': 'Córdoba'}, {'name': 'Barny', 'surname': 'Gómez', 'state': 'Springfield'}]\n"
     ]
    }
   ],
   "source": [
    "print(converted_file_information)"
   ]
  },
  {
   "cell_type": "code",
   "execution_count": 64,
   "metadata": {},
   "outputs": [],
   "source": [
    "def filter_by_name(given_surname):   \n",
    "    for dictionary in converted_file_information:\n",
    "        person_surname = dictionary[surname].lower()\n",
    "        if person_surname == given_surname:\n",
    "            print(person_surname)\n",
    "        #     information_filtered_by_name.append({\n",
    "        #     'name':dictionary[name],\n",
    "        #     'surname':dictionary[surname],\n",
    "        #     'state':dictionary[state]   \n",
    "        # })\n"
   ]
  },
  {
   "cell_type": "code",
   "execution_count": 65,
   "metadata": {},
   "outputs": [
    {
     "name": "stdout",
     "output_type": "stream",
     "text": [
      "gómez\n"
     ]
    }
   ],
   "source": [
    "\n",
    "filter_by_name('gómez')"
   ]
  },
  {
   "cell_type": "code",
   "execution_count": 66,
   "metadata": {},
   "outputs": [
    {
     "name": "stdout",
     "output_type": "stream",
     "text": [
      "gómez\n",
      "None\n"
     ]
    }
   ],
   "source": [
    "print(filter_by_name('gómez'))"
   ]
  },
  {
   "cell_type": "code",
   "execution_count": 67,
   "metadata": {},
   "outputs": [
    {
     "name": "stdout",
     "output_type": "stream",
     "text": [
      "santa fe\n",
      "córdoba\n"
     ]
    }
   ],
   "source": [
    "information_filtered_by_state = []\n",
    "\n",
    "for dictionary in converted_file_information:\n",
    "    person_state = dictionary[state].lower()\n",
    "    if person_state == 'córdoba' or person_state == 'santa fe':\n",
    "        print(person_state)\n",
    "        information_filtered_by_state.append({\n",
    "            'name':dictionary[name],\n",
    "            'surname':dictionary[surname],\n",
    "            'state':dictionary[state]   \n",
    "        })"
   ]
  },
  {
   "cell_type": "code",
   "execution_count": 68,
   "metadata": {},
   "outputs": [
    {
     "name": "stdout",
     "output_type": "stream",
     "text": [
      "[{'name': 'John', 'surname': 'Doe', 'state': 'Santa Fe'}, {'name': 'Selena', 'surname': 'Gomez', 'state': 'Córdoba'}]\n"
     ]
    }
   ],
   "source": [
    "print(information_filtered_by_state)"
   ]
  }
 ],
 "metadata": {
  "kernelspec": {
   "display_name": "Python 3.7.13 ('exam-virtual')",
   "language": "python",
   "name": "python3"
  },
  "language_info": {
   "codemirror_mode": {
    "name": "ipython",
    "version": 3
   },
   "file_extension": ".py",
   "mimetype": "text/x-python",
   "name": "python",
   "nbconvert_exporter": "python",
   "pygments_lexer": "ipython3",
   "version": "3.7.13"
  },
  "orig_nbformat": 4,
  "vscode": {
   "interpreter": {
    "hash": "94d249ff46b9b4cd1b91bea5784328511f984e01f14fa96abec34091615907f2"
   }
  }
 },
 "nbformat": 4,
 "nbformat_minor": 2
}
